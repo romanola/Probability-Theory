{
 "cells": [
  {
   "cell_type": "markdown",
   "metadata": {},
   "source": [
    "# Домашня робота №2"
   ]
  },
  {
   "cell_type": "markdown",
   "metadata": {},
   "source": [
    "## 1 Пароль\n",
    "Напишіть програму (функцію) для генерування випадкового пароля з такими обмеженнями:\n",
    "- пароль складається з рівно $10$ символів\n",
    "- пароль містить хоча б одну маленьку латинську літеру [a-z]\n",
    "- пароль містить хоча б одну велику латинську літеру [A-Z]\n",
    "- пароль містить хоча б одну цифру [0-9]\n",
    "- пароль містить хоча б один спеціальний символ [~!@#$%^&*()-_+=\\/{}[].,?<>:;]"
   ]
  },
  {
   "cell_type": "code",
   "execution_count": null,
   "metadata": {
    "collapsed": true
   },
   "outputs": [
    {
     "name": "stdout",
     "output_type": "stream",
     "text": [
      "Password:  Lz1xaeEYD}\n"
     ]
    }
   ],
   "source": [
    "# Місце для Вашого коду\n",
    "# Місце для Вашого коду\n",
    "from random import randrange as rd\n",
    "from numpy.random import shuffle\n",
    "\n",
    "\n",
    "def task1():\n",
    "    n = 10\n",
    "    obligatory = '~!@#$%^&*()-_+=\\/{}[].,?<>:;'\n",
    "    tmp = int(n / 4)\n",
    "    tmp1, tmp2, tmp3, tmp4 = [rd(1, tmp) for _ in range(4)] #each tmp for one of parts of the password\n",
    "\n",
    "    list1_tmp1 = [chr(rd(48, 58)) for _ in range(tmp1)]\n",
    "    list2_tmp2 = [obligatory[rd(0, len(obligatory))] for _ in range(tmp2)]\n",
    "    list3_tmp3 = [chr(rd(65, 91)) for _ in range(tmp3)]\n",
    "    list4_tmp4 = [chr(rd(97, 123)) for _ in range(tmp4)]\n",
    "    list5_rem = [chr(rd(33, 126)) for _ in range(n - (tmp1 + tmp2 + tmp3 + tmp4))]\n",
    "    \n",
    "    ans = list(map(str, list1_tmp1 + list2_tmp2 + list3_tmp3 + list4_tmp4 + list5_rem))\n",
    "    shuffle(ans)\n",
    "    return ''.join(ans)\n",
    "\n",
    "print(\"Password: \", task1())\n"
   ]
  },
  {
   "cell_type": "markdown",
   "metadata": {},
   "source": [
    "## 2 Герби в ряд\n",
    "Реалізуйте функцію для обчислення емпіричної та теоретичної імовірностей випадіння $k$ гербів (HEADS) підряд у серії з $n$ підкидань чесної монетки. Підрахуйте відповідні ймовірності для таких параметрів:\n",
    "- $k = 2, n = 10, 50, 100, 500, 1000, 5000, 10000$\n",
    "- $k = 3, n = 10, 50, 100, 500, 1000, 5000, 10000$\n",
    "\n",
    "**Зауваження.** Нехай $k = 2, n = 10$ та маємо таку послідовність результатів підкидання монети: $\\{ H, T, H, H, H, H, T, T, H, T \\}$. Тоді матимемо $3$ випадки випадіння двох гербів підряд та емпіричну ймовірність такої події $1/3$."
   ]
  },
  {
   "cell_type": "code",
   "execution_count": 1,
   "metadata": {
    "collapsed": false
   },
   "outputs": [
    {
     "name": "stdout",
     "output_type": "stream",
     "text": [
      "\nk = 2, n = 10, empirical = 0.3, number in a row = 0\nk = 2, n = 50, empirical = 0.36, number in a row = 17\nk = 2, n = 100, empirical = 0.24, number in a row = 17\nk = 2, n = 500, empirical = 0.26, number in a row = 119\nk = 2, n = 1000, empirical = 0.258, number in a row = 241\nk = 2, n = 5000, empirical = 0.2404, number in a row = 1201\nk = 2, n = 10000, empirical = 0.2552, number in a row = 2495\n\n\nk = 3, n = 10, empirical = 0.1, number in a row = 2\nk = 3, n = 50, empirical = 0.12, number in a row = 7\nk = 3, n = 100, empirical = 0.09, number in a row = 15"
     ]
    },
    {
     "name": "stdout",
     "output_type": "stream",
     "text": [
      "\nk = 3, n = 500, empirical = 0.13, number in a row = 81\nk = 3, n = 1000, empirical = 0.141, number in a row = 132\nk = 3, n = 5000, empirical = 0.1164, number in a row = 609\nk = 3, n = 10000, empirical = 0.1232, number in a row = 1159\n"
     ]
    }
   ],
   "source": [
    "# Місце для Вашого коду\n",
    "from numpy.random import choice\n",
    "\n",
    "def empir(n, k):\n",
    "    res = choice(['H', 'T'], n)\n",
    "    counter = 0\n",
    "    for i in range(n-k+1):\n",
    "        tmp = res[i: i+k]\n",
    "        success = True\n",
    "        for char in tmp:\n",
    "            if char != 'H':\n",
    "                success = False\n",
    "                break\n",
    "        if success:\n",
    "            counter += 1\n",
    "    return counter / n, counter\n",
    "\n",
    "\n",
    "n = (10, 50, 100, 500, 1000, 5000, 10000)\n",
    "print()\n",
    "for i in n:\n",
    "    print('k = {}, n = {}, empirical = {}, number in a row = {}'.format(2, i, empir(i, 2)[0], empir(i, 2)[1]))\n",
    "print('\\n')\n",
    "for i in n:\n",
    "    print('k = {}, n = {}, empirical = {}, number in a row = {}'.format(3, i, empir(i, 3)[0], empir(i, 3)[1]))    \n"
   ]
  },
  {
   "cell_type": "markdown",
   "metadata": {},
   "source": [
    "## 3 Найбільше число\n",
    "Реалізуйте функцію підрахунку точної (теоретичної) імовірності того, що максимальне число після $n$ кидків звичайного грального кубика дорівнює $x\\_max$, для таких параметрів:\n",
    "- $n = 3, x\\_max = 6$\n",
    "- $n = 2, x\\_max = 3$\n",
    "- $n = 3, x\\_max = 5$\n",
    "\n",
    "Тобто, якщо $X_i, i = 1, \\ldots, n$, - число на $i$-му кидку кубика, а $X = \\max\\limits_{1 \\leq i \\leq n} X_i$, то потрібно знайти ймовірність $\\textbf{P} \\left( X = x\\_max \\right)$.\n",
    "\n",
    "Підрахуйте також емпіричні ймовірності відповідних подій у випадку $10000$ симуляцій.\n",
    "\n",
    "**Зауваження.** Якщо введені параметри не мають сенсу, то повертати $0$.\n",
    "Тобто, якщо вводиться $x\\_max < 1$ або $x\\_max > 6$."
   ]
  },
  {
   "cell_type": "code",
   "execution_count": 2,
   "metadata": {
    "collapsed": true
   },
   "outputs": [
    {
     "name": "stdout",
     "output_type": "stream",
     "text": [
      "Theoretical\nn = 3, x_max = 6, probability = 0.16666666666666666\nn = 2, x_max = 3, probability = 0.08333333333333333\nn = 3, x_max = 5, probability = 0.11574074074074074\n\nEmpirical\n"
     ]
    },
    {
     "name": "stdout",
     "output_type": "stream",
     "text": [
      "n = 3, x_max = 6, probability = 0.4209\n"
     ]
    },
    {
     "name": "stdout",
     "output_type": "stream",
     "text": [
      "n = 2, x_max = 3, probability = 0.1374\n"
     ]
    },
    {
     "name": "stdout",
     "output_type": "stream",
     "text": [
      "n = 3, x_max = 5, probability = 0.2831\n"
     ]
    }
   ],
   "source": [
    "# Місце для Вашого коду\n",
    "def theor(n, x_max):\n",
    "    return x_max ** (n - 1) / 6 ** n\n",
    "\n",
    "def emp(n, x_max, tests=10000):\n",
    "    counter = 0\n",
    "    for i in range(tests):\n",
    "        if max(list(choice(range(1,7), n))) == x_max:\n",
    "            counter += 1\n",
    "    return counter/tests\n",
    "\n",
    "task3 = [(3, 6), (2, 3), (3, 5)]\n",
    "print(\"Theoretical\")\n",
    "for i in task3:\n",
    "    print(\"n = {}, x_max = {}, probability = {}\".format(i[0], i[1], theor(i[0], i[1])))\n",
    "\n",
    "print(\"\\nEmpirical\")\n",
    "for i in task3:\n",
    "    print(\"n = {}, x_max = {}, probability = {}\".format(i[0], i[1], emp(i[0], i[1])))\n"
   ]
  },
  {
   "cell_type": "markdown",
   "metadata": {},
   "source": [
    "## 4 Сума чисел\n",
    "Реалізуйте функцію підрахунку точної (теоретичної) імовірності того, що сума чисел після $n$ кидків звичайного грального кубика дорівнює $s$, для таких параметрів:\n",
    "- $n = 3, s = 13$\n",
    "- $n = 2, s = 5$\n",
    "- $n = 3, s = 7$\n",
    "\n",
    "Тобто, якщо $X_i, i = 1, \\ldots, n$, - число на $i$-му кидку кубика, а $X = \\sum\\limits_{i = 1}^{n} X_i$, то потрібно знайти ймовірність $\\textbf{P} \\left( X = s \\right)$.\n",
    "\n",
    "Підрахуйте також емпіричні ймовірності відповідних подій у випадку $10000$ симуляцій.\n",
    "\n",
    "**Зауваження.** Якщо введені параметри не мають сенсу, то повертати $0$.\n",
    "Наприклад, якщо при $n = 3$ вводиться $s < 3$ або $s > 18$."
   ]
  },
  {
   "cell_type": "code",
   "execution_count": 3,
   "metadata": {
    "collapsed": true
   },
   "outputs": [
    {
     "name": "stdout",
     "output_type": "stream",
     "text": [
      "n = 3, s = 13, probability = 0.0976\n"
     ]
    },
    {
     "name": "stdout",
     "output_type": "stream",
     "text": [
      "n = 2, s = 5, probability = 0.1094\n"
     ]
    },
    {
     "name": "stdout",
     "output_type": "stream",
     "text": [
      "n = 3, s = 7, probability = 0.0737\n"
     ]
    }
   ],
   "source": [
    "# Місце для Вашого коду\n",
    "def check(n, s, tests=10000):\n",
    "    if n > s > n*6:\n",
    "        return 0\n",
    "    counter = 0\n",
    "    for i in range(tests):\n",
    "        if sum(list(choice(range(1,7), n))) == s:\n",
    "            counter += 1\n",
    "    return counter/tests\n",
    "\n",
    "task4 = [(3,13), (2,5), (3,7)]\n",
    "for i in task4:\n",
    "    print(\"n = {}, s = {}, probability = {}\".format(i[0], i[1], check(i[0], i[1])))\n",
    "\n"
   ]
  },
  {
   "cell_type": "code",
   "execution_count": null,
   "metadata": {},
   "outputs": [],
   "source": []
  }
 ],
 "metadata": {
  "kernelspec": {
   "display_name": "Python 3",
   "language": "python",
   "name": "python3"
  },
  "language_info": {
   "codemirror_mode": {
    "name": "ipython",
    "version": 3
   },
   "file_extension": ".py",
   "mimetype": "text/x-python",
   "name": "python",
   "nbconvert_exporter": "python",
   "pygments_lexer": "ipython3",
   "version": "3.6.1"
  }
 },
 "nbformat": 4,
 "nbformat_minor": 0
}
