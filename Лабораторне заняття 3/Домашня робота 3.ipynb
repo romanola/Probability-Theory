{
 "cells": [
  {
   "cell_type": "markdown",
   "metadata": {},
   "source": [
    "# Домашня робота №3\n",
    "Будемо використовувати *Збірник задач з теорії ймовірностей та математичної статистики: навч. посібник / В.В. Голомозий, М.В. Карташов, К.В. Ральченко. – К.: Видавничо-поліграфічний центр «Київський університет», 2015. – 366 с.*\n",
    "Електронну версію збірника можна знайти [тут](http://probability.univ.kiev.ua/userfiles/kmv/gkr-problems.pdf)."
   ]
  },
  {
   "cell_type": "markdown",
   "metadata": {},
   "source": [
    "## 1 Задача 1.3.12\n",
    "Знайти ймовiрнiсть того, що серед трьох цифр, кожна з яких вибрана навмання, буде лише 1, 2, 3 рiзних.\n",
    "\n",
    "Обчисліть теоретичну (повним перебором) та еміричну (симулюванням $100000$ експериментів) імовірності."
   ]
  },
  {
   "cell_type": "code",
   "execution_count": 1,
   "metadata": {
    "collapsed": true
   },
   "outputs": [
    {
     "name": "stdout",
     "output_type": "stream",
     "text": [
      "3 different: theoretical = 0.72, empirical = 0.71924\n\n"
     ]
    },
    {
     "name": "stdout",
     "output_type": "stream",
     "text": [
      "2 different: theoretical = 0.27, empirical = 0.27077\n\n"
     ]
    },
    {
     "name": "stdout",
     "output_type": "stream",
     "text": [
      "1 different: theoretical = 0.01, empirical = 0.01012\n\n"
     ]
    }
   ],
   "source": [
    "# Місце для Вашого коду\n",
    "from itertools import product\n",
    "from numpy.random import choice\n",
    "\n",
    "def theoret():\n",
    "    numb = product(list(range(10)), repeat=3)\n",
    "    # print(list(numb))\n",
    "    counter = [0, 0, 0]\n",
    "    for elem in numb:\n",
    "        if len(set(elem)) == 3:\n",
    "           counter[0] += 1             \n",
    "        if len(set(elem)) == 2:\n",
    "            counter[1] += 1\n",
    "        if len(set(elem)) == 1:\n",
    "            counter[2] += 1\n",
    "    return [var/10**3 for var in counter]\n",
    "\n",
    "\n",
    "\n",
    "def empiric(tests=100000):\n",
    "    counter = [0 ,0, 0]\n",
    "    for test in range(tests):\n",
    "        elem =choice(list(range(10)), 3)\n",
    "        if len(set(elem)) == 3:\n",
    "           counter[0] += 1             \n",
    "        if len(set(elem)) == 2:\n",
    "            counter[1] += 1\n",
    "        if len(set(elem)) == 1:\n",
    "            counter[2] += 1\n",
    "    return [var/tests for var in counter]\n",
    "\n",
    "for i in range(1, 4):\n",
    "    print(\"{} different: theoretical = {}, empirical = {}\\n\".format(4-i, theoret()[i-1], empiric()[i-1]))\n",
    "        \n"
   ]
  },
  {
   "cell_type": "markdown",
   "metadata": {},
   "source": [
    "# 2 Задача 1.3.14\n",
    "З послiдовностi чисел $1, 2, . . . , n$ вибирають навмання $k$ рiзних чисел.\n",
    "Яка ймовiрнiсть того, що:\n",
    "1. кожне з вибраних чисел кратне даному числу $p$;\n",
    "2. кожне з вибраних чисел кратне хоча б одному з двох взаємно простих чисел $p$ i $q$;\n",
    "3. серед вибраних чисел є хоча б одне кратне $p$?\n",
    "\n",
    "Напишіть  відповідні функції для обрахунку теоретичної (повним перебором) та еміричної (симулюванням $100000$ експериментів) імовірностей в залежності від параметрів $n, k, p, q$.\n",
    "Виведіть результат для\n",
    "- $n = 25, k = 5, p = 3, q = 4$;\n",
    "- $n = 25, k = 10, p = 3, q = 4$."
   ]
  },
  {
   "cell_type": "code",
   "execution_count": 4,
   "metadata": {
    "collapsed": true
   },
   "outputs": [
    {
     "name": "stdout",
     "output_type": "stream",
     "text": [
      "n = 25, k = 5, p = 3, q = 4: \ntheoretical: \n1) 0.006669192876089428,\n2) 0.0367816091954023\n3) 0.8286472148541114.\n"
     ]
    },
    {
     "name": "stdout",
     "output_type": "stream",
     "text": [
      "empirical:\n1) 0.00325,\n2) 0.02545,\n3) 0.85422.\n"
     ]
    },
    {
     "name": "stdout",
     "output_type": "stream",
     "text": [
      "n = 25, k = 10, p = 3, q = 4:\nempirical:\n1) 1e-05,\n2) 0.0007,\n3) 0.97898.\n"
     ]
    }
   ],
   "source": [
    "# для n = 25, k = 10, p = 3, q = 4 теоретичну ймовірність не порахувало\n",
    "from itertools import combinations_with_replacement as cwr\n",
    "from numpy.random import choice\n",
    "\n",
    "def is_prime(m,n):\n",
    "    def gcd_is(m,n):\n",
    "        while m != n:\n",
    "            if n >= m:\n",
    "                n -= m\n",
    "            else:\n",
    "                m -= n\n",
    "        return m\n",
    "    return gcd_is(m, n) == 1\n",
    "\n",
    "\n",
    "def theoret(n,k,p,q):\n",
    "    choose = cwr(range(1, n+1), k)\n",
    "    def check_p(k, p):\n",
    "        numb = 0\n",
    "        lens = 0\n",
    "        for i in choose:\n",
    "            lens += 1\n",
    "            counter = 0\n",
    "            for j in i:\n",
    "                if j%p == 0:\n",
    "                    counter += 1\n",
    "            if counter == k:\n",
    "                numb += 1\n",
    "                \n",
    "        return numb/lens\n",
    "    return check_p(k, p)\n",
    "    \n",
    "def p_q(n,k,p,q):\n",
    "    choose = cwr(range(1, n+1), k)\n",
    "    tkp = 0\n",
    "    if is_prime(p,q):\n",
    "        count = 0\n",
    "        for i in choose:\n",
    "            tkp += 1\n",
    "            tmp = 0\n",
    "            for j in i:\n",
    "                if j%p == 0 or j%q == 0:\n",
    "                    tmp +=1\n",
    "            if tmp == k:\n",
    "                count += 1\n",
    "    return count/tkp\n",
    "         \n",
    "def if_p(n, k, p):\n",
    "    choose = cwr(range(1, n+1), k)\n",
    "    tk = 0\n",
    "    count = 0\n",
    "    for i in choose:\n",
    "        tk += 1\n",
    "        tmp = 0\n",
    "        for j in i:\n",
    "            if j%p == 0:\n",
    "                tmp +=1\n",
    "        if tmp > 0:\n",
    "            count += 1\n",
    "    return count/tk\n",
    "\n",
    "\n",
    "\n",
    "print(\"n = 25, k = 5, p = 3, q = 4: \\ntheoretical: \\n1) {},\\n2) {}\\n3) {}.\".format(theoret(25, 5, 3,4),p_q(25, 5, 3,4), if_p(25,5,3)))\n",
    "def empiric(n, k, p, q, tests=100000):\n",
    "    counter = [0, 0, 0]\n",
    "    for test in range(tests):\n",
    "        elements = choice(range(1, n + 1), k)\n",
    "        success0 = 0  \n",
    "        success1 = 0  \n",
    "        success2 = False \n",
    "        \n",
    "        for elem in elements:\n",
    "            if elem % p == 0:\n",
    "                success0 += 1\n",
    "            if elem % p == 0 or elem % q == 0:\n",
    "                success1 += 1\n",
    "            if not elem % p:\n",
    "                success2 = True\n",
    "            \n",
    "        if success0 == k:\n",
    "            counter[0] += 1\n",
    "        if success1 == k:\n",
    "            counter[1] += 1\n",
    "        if success2:\n",
    "            counter[2] += 1\n",
    "    return [ i / tests for i in counter]\n",
    "\n",
    "print(\"empirical:\\n1) {},\\n2) {},\\n3) {}.\".format(empiric(25,5,3,4)[0], empiric(25,5,3,4)[1], empiric(25,5,3,4)[2]))\n",
    "print(\"n = 25, k = 10, p = 3, q = 4:\\nempirical:\\n1) {},\\n2) {},\\n3) {}.\".format(empiric(25,10,3,4)[0],empiric(25,10,3,4)[1],empiric(25,10,3,4)[2]))"
   ]
  },
  {
   "cell_type": "markdown",
   "metadata": {},
   "source": [
    "# 3 Задача 1.4.6\n",
    "В коморi знаходяться $n$ пар черевикiв.\n",
    "З них випадковим чином вибираються $2k$ черевикiв.\n",
    "Яка ймовiрнiсть того, що серед вибраних черевикiв:\n",
    "1. вiдсутнi парнi;\n",
    "2. є рiвно одна комплектна пара;\n",
    "3. є двi комплектнi пари?\n",
    "\n",
    "Напишіть  відповідні функції для обрахунку теоретичної (повним перебором) та еміричної (симулюванням $100000$ експериментів) імовірностей в залежності від параметрів $n, k$.\n",
    "Виведіть результат для\n",
    "- $n = 8, k = 4$;\n",
    "- $n = 13, k = 5$."
   ]
  },
  {
   "cell_type": "code",
   "execution_count": 15,
   "metadata": {
    "collapsed": true
   },
   "outputs": [
    {
     "name": "stdout",
     "output_type": "stream",
     "text": [
      "n = 8, k = 4, theoretical = [0.01989121989121989, 0.2784770784770785, 0.5221445221445221], empical = [0.01992, 0.27781, 0.52179]\n"
     ]
    },
    {
     "name": "stdout",
     "output_type": "stream",
     "text": [
      "n = 13, k = 5, theoretical = [0.05513528065688518, 0.31013595369497915, 0.4341903351729708], empical = [0.05545, 0.31192, 0.43386]\n"
     ]
    }
   ],
   "source": [
    "from numpy.random import shuffle\n",
    "from itertools import combinations\n",
    "\n",
    "def theor(n,k, seq):\n",
    "    serr = seq[:n]\n",
    "    counter = [0, 0, 0]\n",
    "    shoes = [(i, 1) for i in serr] + [(i, 2) for i in serr]\n",
    "    r = 0\n",
    "    \n",
    "    for elem in combinations(shoes, 2*k):\n",
    "        r += 1\n",
    "        w = {}\n",
    "        for i in serr:\n",
    "            w[i] = 0\n",
    "        for j in elem:\n",
    "            w[j[0]] += 1\n",
    "        \n",
    "        cp = len([i for i in w.values() if i == 2])\n",
    "        if cp == 0:\n",
    "            counter[0] += 1\n",
    "        if cp == 1:\n",
    "            counter[1] += 1\n",
    "        if cp == 2:\n",
    "            counter[2] += 1\n",
    "    return [prob / r for prob in counter]\n",
    "        \n",
    "def empir(n, k, seq, tests=100000):\n",
    "    seqq = seq[:n]\n",
    "    pair = [(i, 1) for i in seqq] + [(i, 2) for i in seqq]\n",
    "    counter = [0, 0, 0]\n",
    "    for test in range(tests):\n",
    "        shuffle(pair)\n",
    "        w = {}\n",
    "        t = pair[:2*k]\n",
    "        for i in seqq:\n",
    "            w[i] = 0\n",
    "        for i in t:\n",
    "            w[i[0]] += 1\n",
    "        \n",
    "        cp = len([i for i in w.values() if i == 2])\n",
    "        if cp == 0:\n",
    "            counter[0] += 1\n",
    "        if cp == 1:\n",
    "            counter[1] += 1\n",
    "        if cp == 2:\n",
    "            counter[2] += 1\n",
    "    return [prob/tests for prob in counter]\n",
    "seq = 'abcdefghijklmnopqrstuvwxyz'\n",
    "\n",
    "print(\"n = {}, k = {}, theoretical = {}, empical = {}\".format(8, 4, theor(8,4, seq), empir(8,4,seq)))\n",
    "print(\"n = {}, k = {}, theoretical = {}, empical = {}\".format(13, 5, theor(13,5, seq), empir(13,5,seq)))"
   ]
  },
  {
   "cell_type": "markdown",
   "metadata": {},
   "source": [
    "# 4 Задача 1.2.15\n",
    "Нехай $\\Omega = {1, 2, \\ldots, 2n}$.\n",
    "Всiм числам приписанi ймовiрностi, пропорцiйнi логарифмам цих чисел.\n",
    "Знайти цi ймовiрностi.\n",
    "Знайти ймовiрнiсть того, що в результатi експерименту з’явиться:\n",
    "1. парне число;\n",
    "2. непарне число.\n",
    "\n",
    "Напишіть функцію для обрахунку еміричної (симулюванням $100000$ експериментів) імовірності в залежності від параметра $n$.\n",
    "Виведіть результат для\n",
    "- $n = 10$;\n",
    "- $n = 25$."
   ]
  },
  {
   "cell_type": "code",
   "execution_count": 57,
   "metadata": {
    "collapsed": true
   },
   "outputs": [
    {
     "name": "stdout",
     "output_type": "stream",
     "text": [
      "n = 10, \nprobability of numbers = [0.0, 0.01637267243297415, 0.02595007184285505, 0.0327453448659483, 0.038016168110510506, 0.042322744275829195, 0.04596390254194683, 0.04911801729892245, 0.0519001436857101, 0.05438884054348467, 0.05664014069622203, 0.05869541670880335, 0.0605860873630913, 0.06233657497492098, 0.06396623995336556, 0.0654906897318966, 0.06692269018174564, 0.06827281611868424, 0.06954992569663022, 0.0707615129764588], \nprobability of pair and unpaired numbers = [0.52331, 0.47669]\n"
     ]
    },
    {
     "name": "stdout",
     "output_type": "stream",
     "text": [
      "n = 25, \nprobability of numbers = [0.0, 0.004668356716228672, 0.007399170335212202, 0.009336713432457344, 0.010839588616367463, 0.012067527051440874, 0.013105734205225237, 0.014005070148686016, 0.014798340670424404, 0.015507945332596137, 0.016149860831199254, 0.016735883767669546, 0.0172749726111833, 0.01777409092145391, 0.018238758951579667, 0.01867342686491469, 0.019081734607286155, 0.019466697386653072, 0.019830840937436926, 0.02017630204882481, 0.02050490454043744, 0.020818217547427926, 0.021117600838835265, 0.021404240483898218, 0.021679177232734926, 0.021943329327411977, 0.022197511005636605, 0.02244244763768258, 0.02267878820591505, 0.02290711566780834, 0.023127955619109877, 0.02334178358114336, 0.023549031166411456, 0.023750091323514827, 0.023945322821592698, 0.024135054102881748, 0.024319586607313967, 0.024499197653665598, 0.024674142946395503, 0.02484465876505348, 0.02501096388330322, 0.02517326125666611, 0.02533173951164847, 0.025486574263656598, 0.025637929286791865, 0.025785957555063937, 0.025930802171618205, 0.02607259720012689, 0.026211468410450474, 0.026347533948963598], \nprobability of pair and unpaired numbers = [0.50509, 0.49491]\n"
     ]
    }
   ],
   "source": [
    "# Місце для Вашого коду\n",
    "from numpy.random import choice\n",
    "def task4(n, tests=100000):\n",
    "    counter = [0, 0]\n",
    "    omega = list(range(1, 2*n+1)) \n",
    "    eq_prob = list(map(log, omega))\n",
    "    prob_om = list(map(lambda i: i/sum(eq_prob), eq_prob))\n",
    "    for test in range(tests):\n",
    "        elem = choice(omega, size=1, p=prob_om)\n",
    "        if not elem % 2:\n",
    "            counter[0] += 1\n",
    "        else:\n",
    "            counter[1] += 1\n",
    "    return [i/tests for i in counter], prob_om\n",
    "\n",
    "print(\"n = 10, \\nprobability of numbers = {}, \\nprobability of pair and unpaired numbers = {}\".format(task4(10)[1], task4(10)[0]))\n",
    "print(\"n = 25, \\nprobability of numbers = {}, \\nprobability of pair and unpaired numbers = {}\".format(task4(25)[1], task4(25)[0]))"
   ]
  },
  {
   "cell_type": "code",
   "execution_count": 31,
   "metadata": {},
   "outputs": [],
   "source": []
  },
  {
   "cell_type": "code",
   "execution_count": 31,
   "metadata": {},
   "outputs": [],
   "source": []
  },
  {
   "cell_type": "code",
   "execution_count": null,
   "metadata": {},
   "outputs": [],
   "source": []
  }
 ],
 "metadata": {
  "kernelspec": {
   "display_name": "Python 3",
   "language": "python",
   "name": "python3"
  },
  "language_info": {
   "codemirror_mode": {
    "name": "ipython",
    "version": 3
   },
   "file_extension": ".py",
   "mimetype": "text/x-python",
   "name": "python",
   "nbconvert_exporter": "python",
   "pygments_lexer": "ipython3",
   "version": "3.6.1"
  }
 },
 "nbformat": 4,
 "nbformat_minor": 0
}
