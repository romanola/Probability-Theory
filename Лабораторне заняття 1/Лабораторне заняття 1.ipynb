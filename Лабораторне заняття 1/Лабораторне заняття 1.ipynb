{
 "cells": [
  {
   "cell_type": "markdown",
   "metadata": {},
   "source": [
    "# Лабораторне заняття №1"
   ]
  },
  {
   "cell_type": "markdown",
   "metadata": {},
   "source": [
    "## 1 Перестановки"
   ]
  },
  {
   "cell_type": "markdown",
   "metadata": {},
   "source": [
    "### 1.1 Використовуючи власну функцію"
   ]
  },
  {
   "cell_type": "code",
   "execution_count": 1,
   "metadata": {
    "collapsed": true
   },
   "outputs": [],
   "source": [
    "def permute(A):\n",
    "    if len(A)==1:\n",
    "        return [tuple(A)]\n",
    "    permutations = []\n",
    "    for x in A:\n",
    "        for y in permute(A-{x}):\n",
    "            permutations.append((x,)+y)\n",
    "    return permutations"
   ]
  },
  {
   "cell_type": "code",
   "execution_count": 2,
   "metadata": {
    "collapsed": true
   },
   "outputs": [],
   "source": [
    "A = {1, 2, 3}"
   ]
  },
  {
   "cell_type": "code",
   "execution_count": 3,
   "metadata": {
    "collapsed": false
   },
   "outputs": [
    {
     "name": "stdout",
     "output_type": "stream",
     "text": [
      "Перестановки множини {1, 2, 3}: {(3, 1, 2), (1, 3, 2), (3, 2, 1), (2, 3, 1), (1, 2, 3), (2, 1, 3)}\nКількість перестановок:  6\n"
     ]
    }
   ],
   "source": [
    "# Використовуючи власну функцію\n",
    "permute_all = set(permute(A))\n",
    "print(\"Перестановки множини {}: {}\".format(A,permute_all))\n",
    "print(\"Кількість перестановок: \", len(permute_all))"
   ]
  },
  {
   "cell_type": "markdown",
   "metadata": {},
   "source": [
    "### 1.2 Використовуючи бібліотеку `itertools`"
   ]
  },
  {
   "cell_type": "code",
   "execution_count": 2,
   "metadata": {
    "collapsed": true
   },
   "outputs": [],
   "source": [
    "from itertools import permutations"
   ]
  },
  {
   "cell_type": "code",
   "execution_count": 4,
   "metadata": {
    "collapsed": true
   },
   "outputs": [],
   "source": [
    "A = {1, 2, 3}"
   ]
  },
  {
   "cell_type": "code",
   "execution_count": 5,
   "metadata": {
    "collapsed": false
   },
   "outputs": [
    {
     "name": "stdout",
     "output_type": "stream",
     "text": [
      "Перестановки множини {1, 2, 3}: {(3, 1, 2), (1, 3, 2), (3, 2, 1), (2, 3, 1), (1, 2, 3), (2, 1, 3)}\nКількість перестановок:  6\n"
     ]
    }
   ],
   "source": [
    "# Використовуючи бібліотеку itertools\n",
    "permute_all = set(permutations(A))\n",
    "print(\"Перестановки множини {}: {}\".format(A,permute_all))\n",
    "print(\"Кількість перестановок: \", len(permute_all))"
   ]
  },
  {
   "cell_type": "markdown",
   "metadata": {},
   "source": [
    "### 1.3 Задача\n",
    "Виведіть всі можливі перестановки та порахуйте їх кількість від таких множин:\n",
    "- {1, 3, 5}\n",
    "- {1, 2, 3, 4}\n",
    "- {1, 2, 2, 1}\n",
    "\n",
    "Порахуйте кількість перестановок таких множин:\n",
    "- {1, 2, 3, 4, 5}\n",
    "- {1, 2, 3, 4, 5, 6, 7}\n",
    "- {1, 3, 5, 7, 9, 11, 13, 15, 17, 19}\n",
    "\n",
    "**Зауваження.** Спробуйте задати множину $\\{1, 2, 2, 1\\}$ у вигляді списку, тобто $A = [1, 2, 2, 1]$."
   ]
  },
  {
   "cell_type": "code",
   "execution_count": 6,
   "metadata": {
    "collapsed": true
   },
   "outputs": [
    {
     "name": "stdout",
     "output_type": "stream",
     "text": [
      "Set's permutation {1, 3, 5} :\n(1, 3, 5)\n(1, 5, 3)\n(3, 1, 5)\n(3, 5, 1)\n(5, 1, 3)\n(5, 3, 1)\nNumber: 6\n\nSet's permutation {1, 2, 3, 4} :\n(1, 2, 3, 4)\n(1, 2, 4, 3)\n(1, 3, 2, 4)\n(1, 3, 4, 2)\n(1, 4, 2, 3)\n(1, 4, 3, 2)\n(2, 1, 3, 4)\n(2, 1, 4, 3)\n(2, 3, 1, 4)\n(2, 3, 4, 1)\n(2, 4, 1, 3)\n(2, 4, 3, 1)\n(3, 1, 2, 4)\n(3, 1, 4, 2)\n(3, 2, 1, 4)\n(3, 2, 4, 1)\n(3, 4, 1, 2)\n(3, 4, 2, 1)\n(4, 1, 2, 3)\n(4, 1, 3, 2)\n(4, 2, 1, 3)\n(4, 2, 3, 1)\n(4, 3, 1, 2)\n(4, 3, 2, 1)\nNumber: 24\n\nSet's permutation [1, 2, 2, 1] :\n(1, 2, 2, 1)\n(1, 2, 1, 2)\n(1, 2, 2, 1)\n(1, 2, 1, 2)\n(1, 1, 2, 2)\n(1, 1, 2, 2)\n(2, 1, 2, 1)\n(2, 1, 1, 2)\n(2, 2, 1, 1)\n(2, 2, 1, 1)\n(2, 1, 1, 2)\n(2, 1, 2, 1)\n(2, 1, 2, 1)\n(2, 1, 1, 2)\n(2, 2, 1, 1)\n(2, 2, 1, 1)\n(2, 1, 1, 2)\n(2, 1, 2, 1)\n(1, 1, 2, 2)\n(1, 1, 2, 2)\n(1, 2, 1, 2)\n(1, 2, 2, 1)\n(1, 2, 1, 2)\n(1, 2, 2, 1)\nNumber: 24\n\nSet: {1, 2, 3, 4, 5}\nNumber of permutations: 120\n\nSet: {1, 2, 3, 4, 5, 6, 7}\nNumber of permutations: 5040\n\nSet: {1, 3, 5, 7, 9, 11, 13, 15, 17, 19}\nNumber of permutations: 3628800\n\n"
     ]
    }
   ],
   "source": [
    "# Місце для Вашого коду\n",
    "# Місце для Вашого коду\n",
    "def printing(sets, lists):\n",
    "    print(\"Set's permutation {} :\".format(sets))\n",
    "    for _ in lists:\n",
    "        print(_)\n",
    "    print(\"Number: {}\\n\".format(len(lists)))\n",
    "\n",
    "def print_count(sets, lists):\n",
    "    print(\"Set: {}\".format(sets))\n",
    "    print(\"Number of permutations: {}\\n\".format(len(lists)))  \n",
    "    \n",
    "    \n",
    "a = {1, 3, 5}\n",
    "b = {1, 2, 3, 4}\n",
    "c = [1, 2, 2, 1]\n",
    "\n",
    "p_a = list(permutations(a))\n",
    "p_b = list(permutations(b))\n",
    "p_c = list(permutations(c))\n",
    "\n",
    "printing(a, p_a)\n",
    "printing(b, p_b)\n",
    "printing(c, p_c)\n",
    "  \n",
    "\n",
    "s1 = {1, 2, 3, 4, 5}\n",
    "s2 = {1, 2, 3, 4, 5, 6, 7}\n",
    "s3 = {1, 3, 5, 7, 9, 11, 13, 15, 17, 19}\n",
    "\n",
    "p_s1 = set(permutations(s1))\n",
    "p_s2 = set(permutations(s2))\n",
    "p_s3 = set(permutations(s3))\n",
    "\n",
    "print_count(s1, p_s1)\n",
    "print_count(s2, p_s2)\n",
    "print_count(s3, p_s3)\n"
   ]
  },
  {
   "cell_type": "markdown",
   "metadata": {},
   "source": [
    "### 1.4 Задача\n",
    "Виведіть всі можливі перестановки без нерухомих точок та порахуйте їх кількість від таких множин:\n",
    "- {1, 2, 3}\n",
    "- {1, 2, 3, 4}\n",
    "- {1, 3, 5, 7}\n",
    "- {1, 2, 2, 1}\n",
    "\n",
    "_Перестановка без нерухомих точок_ - це така перестановка, в якій позиція кожного елементу не збігається з його позицією в початковій множині.\n",
    "**Приклад.** Для множини {1, 2, 3, 4, 5}:\n",
    "- {4, 1, 5, 2, 3} - перестановка без нерухомих точок\n",
    "- {4, **2**, 1, 3, **5**} - перестановка з нерухомими точками"
   ]
  },
  {
   "cell_type": "code",
   "execution_count": 7,
   "metadata": {
    "collapsed": true
   },
   "outputs": [
    {
     "name": "stdout",
     "output_type": "stream",
     "text": [
      "Permutations\nSet's permutation {1, 2, 3} :\n(2, 3, 1)\n(3, 1, 2)\nNumber: 2\n\nSet's permutation {1, 2, 3, 4} :\n(2, 1, 4, 3)\n(2, 3, 4, 1)\n(2, 4, 1, 3)\n(3, 1, 4, 2)\n(3, 4, 1, 2)\n(3, 4, 2, 1)\n(4, 1, 2, 3)\n(4, 3, 1, 2)\n(4, 3, 2, 1)\nNumber: 9\n\nSet's permutation {1, 3, 5, 7} :\n(3, 1, 7, 5)\n(3, 5, 7, 1)\n(3, 7, 1, 5)\n(5, 1, 7, 3)\n(5, 7, 1, 3)\n(5, 7, 3, 1)\n(7, 1, 3, 5)\n(7, 5, 1, 3)\n(7, 5, 3, 1)\nNumber: 9\n\nSet's permutation [1, 2, 2, 1] :\n(2, 1, 1, 2)\n(2, 1, 1, 2)\n(2, 1, 1, 2)\n(2, 1, 1, 2)\nNumber: 4\n\n"
     ]
    }
   ],
   "source": [
    "# Місце для Вашого коду\n",
    "def immove(elem):\n",
    "    \n",
    "    def position(a):\n",
    "        return [i for i in enumerate(a)]\n",
    "    \n",
    "    pos = position(elem)\n",
    "    perm = []\n",
    "    \n",
    "    for i in permutations(elem):\n",
    "        tmp = True\n",
    "        for j in range(len(pos)):\n",
    "            if pos[j] in position(i):\n",
    "                tmp = False\n",
    "                break\n",
    "        if tmp:\n",
    "            perm.append(i)\n",
    "            \n",
    "    return perm\n",
    "a = {1, 2, 3}\n",
    "b = {1, 2, 3, 4}\n",
    "c = {1, 3, 5, 7}\n",
    "d = [1, 2, 2, 1]\n",
    "\n",
    "print(\"Permutations\")\n",
    "printing(a, immove(a))\n",
    "printing(b, immove(b))\n",
    "printing(c, immove(c))\n",
    "printing(d, immove(d))\n"
   ]
  },
  {
   "cell_type": "markdown",
   "metadata": {},
   "source": [
    "### 1.5 Задача\n",
    "Виведіть всі можливі перестановки, в яких перші $4$ елементи зростають, а наступні спадають, та порахуйте їх кількість від таких множин:\n",
    "- {1, 2, 3, 4, 5, 6, 7, 8}\n",
    "- {1, 2, 3, 4, 5, 6, 7, 8, 9, 10}\n",
    "\n",
    "**Зауваження.** Нехай перестановка\n",
    "$\\pi = \\left( \\sigma_1, \\sigma_2, \\sigma_3, \\sigma_4, \\sigma_5, \\sigma_6, \\sigma_7, \\sigma_8 \\right)$.\n",
    "Тоді має виконуватися така умова:\n",
    "$$\n",
    "  \\sigma_1 < \\sigma_2 < \\sigma_3 < \\sigma_4 > \\sigma_5 > \\sigma_6 > \\sigma_7 > \\sigma_8.\n",
    "$$"
   ]
  },
  {
   "cell_type": "code",
   "execution_count": 9,
   "metadata": {
    "collapsed": true
   },
   "outputs": [
    {
     "name": "stdout",
     "output_type": "stream",
     "text": [
      "Permutations\nSet: {1, 2, 3, 4, 5, 6, 7, 8}\nNumber of permutations: 35\n\n"
     ]
    },
    {
     "name": "stdout",
     "output_type": "stream",
     "text": [
      "Set: {1, 2, 3, 4, 5, 6, 7, 8, 9, 10}\nNumber of permutations: 84\n\n"
     ]
    }
   ],
   "source": [
    "# Місце для Вашого коду\n",
    "from itertools import permutations\n",
    "def check(cort):\n",
    "    tmp = True\n",
    "    for i in range(3):\n",
    "        if cort[i] > cort[i+1]:\n",
    "            tmp = False\n",
    "            break\n",
    "    for i in range(3, len(cort)-1):\n",
    "        if cort[i] < cort[i+1]:\n",
    "            tmp = False\n",
    "            break\n",
    "    return tmp\n",
    "a = {1, 2, 3, 4, 5, 6, 7, 8}\n",
    "list1 = [] \n",
    "for i in permutations(a):\n",
    "    if check(i):\n",
    "        list1.append(i)\n",
    "print(\"Permutations\")\n",
    "print_count(a, list1)\n",
    "        \n",
    "b = set(list(range(1, 11)))\n",
    "list2 = [] \n",
    "for i in permutations(b):\n",
    "    if check(i):\n",
    "        list2.append(i)\n",
    "print_count(b, list2)\n"
   ]
  },
  {
   "cell_type": "markdown",
   "metadata": {},
   "source": [
    "\n",
    "##2 Часткові перестановки"
   ]
  },
  {
   "cell_type": "markdown",
   "metadata": {},
   "source": [
    "### 2.1 Використовуючи бібліотеку `itertools`"
   ]
  },
  {
   "cell_type": "code",
   "execution_count": 12,
   "metadata": {
    "collapsed": true
   },
   "outputs": [],
   "source": [
    "A = {1, 2, 3}\n",
    "k = 2"
   ]
  },
  {
   "cell_type": "code",
   "execution_count": 14,
   "metadata": {
    "collapsed": false
   },
   "outputs": [
    {
     "name": "stdout",
     "output_type": "stream",
     "text": [
      "Перестановки довжини 2 множини {1, 2, 3}: [(1, 2), (1, 3), (2, 1), (2, 3), (3, 1), (3, 2)]\n",
      "Кількість таких перестановок: 6\n"
     ]
    }
   ],
   "source": [
    "# перестановки довжини k множини A\n",
    "permute_k = list(permutations(A, k))\n",
    "print(\"Перестановки довжини {} множини {}: {}\".format(k,A,permute_k))\n",
    "print(\"Кількість таких перестановок: {}\".format(len(permute_k)))"
   ]
  },
  {
   "cell_type": "markdown",
   "metadata": {},
   "source": [
    "### 2.2 Задача\n",
    "Нехай $n$ - розмір множини, $k$ - розмір перестановок.\n",
    "Виведіть всі можливі часткові перестановки та порахуйте їх кількість для таких параметрів:\n",
    "- $n = 4, k = 2$\n",
    "- $n = 4, k = 3$\n",
    "- $n = 5, k = 2$\n",
    "\n",
    "Порахуйте кількість часткових перестановок для таких параметрів:\n",
    "- $n = 6, k = 2$\n",
    "- $n = 6, k = 4$\n",
    "- $n = 8, k = 4$"
   ]
  },
  {
   "cell_type": "code",
   "execution_count": 10,
   "metadata": {
    "collapsed": true
   },
   "outputs": [
    {
     "name": "stdout",
     "output_type": "stream",
     "text": [
      "Partial permutations\n\nn = 4, k = 2, number: 12\n[1, 2, 3, 4]  : \n(1, 2)\n(1, 3)\n(1, 4)\n(2, 1)\n(2, 3)\n(2, 4)\n(3, 1)\n(3, 2)\n(3, 4)\n(4, 1)\n(4, 2)\n(4, 3)\n\nn = 4, k = 3, number: 24\n[1, 2, 3, 4]  : \n(1, 2, 3)\n(1, 2, 4)\n(1, 3, 2)\n(1, 3, 4)\n(1, 4, 2)\n(1, 4, 3)\n(2, 1, 3)\n(2, 1, 4)\n(2, 3, 1)\n(2, 3, 4)\n(2, 4, 1)\n(2, 4, 3)\n(3, 1, 2)\n(3, 1, 4)\n(3, 2, 1)\n(3, 2, 4)\n(3, 4, 1)\n(3, 4, 2)\n(4, 1, 2)\n(4, 1, 3)\n(4, 2, 1)\n(4, 2, 3)\n(4, 3, 1)\n(4, 3, 2)\n\nn = 5, k = 2, number: 20\n[1, 2, 3, 4, 5]  : \n(1, 2)\n(1, 3)\n(1, 4)\n(1, 5)\n(2, 1)\n(2, 3)\n(2, 4)\n(2, 5)\n(3, 1)\n(3, 2)\n(3, 4)\n(3, 5)\n(4, 1)\n(4, 2)\n(4, 3)\n(4, 5)\n(5, 1)\n(5, 2)\n(5, 3)\n(5, 4)\nPartial permutations\n\nn = 6, k = 2, number: 30\n\nn = 6, k = 4, number: 360\n\nn = 8, k = 4, number: 1680\n"
     ]
    }
   ],
   "source": [
    "# Місце для Вашого коду\n",
    "def print_k(k, sets, lists):\n",
    "    print(\"\\nn = {}, k = {}, number: {}\".format(len(sets),k, len(lists)))\n",
    "    print(sets, \" : \")\n",
    "    for i in lists:\n",
    "        print(i)\n",
    " \n",
    "def print_k_n(k, sets, lists):\n",
    "    print(\"\\nn = {}, k = {}, number: {}\".format(len(sets), k, len(lists))) \n",
    "\n",
    "\n",
    "a1 = list(range(1, 5))\n",
    "a2 = list(range(1, 6))\n",
    "\n",
    "perm1 = list(permutations(a1, 2))\n",
    "perm2 = list(permutations(a1, 3))\n",
    "perm3 = list(permutations(a2, 2))\n",
    "\n",
    "print(\"Partial permutations\")\n",
    "print_k(2, a1, perm1)\n",
    "print_k(3, a1, perm2)\n",
    "print_k(2, a2, perm3)\n",
    "\n",
    "\n",
    "a1 = list(range(1, 7))\n",
    "a2 = list(range(1, 9))\n",
    "perm_a1 = list(permutations(a1, 2))\n",
    "perm_a2 = list(permutations(a1, 4))\n",
    "perm_a3 = list(permutations(a2, 4))\n",
    "\n",
    "print(\"Partial permutations\")\n",
    "print_k_n(2, a1, perm_a1)\n",
    "print_k_n(4, a1, perm_a2)\n",
    "print_k_n(4, a2, perm_a3)\n"
   ]
  },
  {
   "cell_type": "markdown",
   "metadata": {},
   "source": [
    "## 3 Комбінації без повторень"
   ]
  },
  {
   "cell_type": "markdown",
   "metadata": {},
   "source": [
    "### 3.1 Використовуючи бібліотеку `itertools`"
   ]
  },
  {
   "cell_type": "code",
   "execution_count": 16,
   "metadata": {
    "collapsed": true
   },
   "outputs": [],
   "source": [
    "from itertools import combinations"
   ]
  },
  {
   "cell_type": "code",
   "execution_count": 18,
   "metadata": {
    "collapsed": true
   },
   "outputs": [],
   "source": [
    "A = {1, 2, 3}\n",
    "k = 2"
   ]
  },
  {
   "cell_type": "code",
   "execution_count": 19,
   "metadata": {
    "collapsed": false
   },
   "outputs": [
    {
     "name": "stdout",
     "output_type": "stream",
     "text": [
      "Комбінації довжини 2 множини {1, 2, 3}: [(1, 2), (1, 3), (2, 3)]\n",
      "Кількість таких комбінацій: 3\n"
     ]
    }
   ],
   "source": [
    "# комбінації довжини k множини A\n",
    "choose_k = list(combinations(A,k))\n",
    "print(\"Комбінації довжини {} множини {}: {}\".format(k,A,choose_k))\n",
    "print(\"Кількість таких комбінацій: {}\".format(len(choose_k)  ))"
   ]
  },
  {
   "cell_type": "markdown",
   "metadata": {},
   "source": [
    "### 3.2 Задача\n",
    "Нехай $n$ - розмір множини, $k$ - розмір комбінацій.\n",
    "Виведіть всі можливі комбінації без повторень та порахуйте їх кількість для таких параметрів:\n",
    "- $n = 4, k = 2$\n",
    "- $n = 4, k = 3$\n",
    "- $n = 5, k = 2$\n",
    "\n",
    "Порахуйте кількість комбінацій без повторень для таких параметрів:\n",
    "- $n = 6, k = 2$\n",
    "- $n = 6, k = 4$\n",
    "- $n = 8, k = 4$"
   ]
  },
  {
   "cell_type": "code",
   "execution_count": 11,
   "metadata": {
    "collapsed": true
   },
   "outputs": [
    {
     "name": "stdout",
     "output_type": "stream",
     "text": [
      "Combinations without replacement\n\nn = 4, k = 2, number: 6\n[1, 2, 3, 4]  : \n(1, 2)\n(1, 3)\n(1, 4)\n(2, 3)\n(2, 4)\n(3, 4)\n\nn = 4, k = 3, number: 4\n[1, 2, 3, 4]  : \n(1, 2, 3)\n(1, 2, 4)\n(1, 3, 4)\n(2, 3, 4)\n\nn = 5, k = 2, number: 10\n[1, 2, 3, 4, 5]  : \n(1, 2)\n(1, 3)\n(1, 4)\n(1, 5)\n(2, 3)\n(2, 4)\n(2, 5)\n(3, 4)\n(3, 5)\n(4, 5)\nCombinations without replacement\n\nn = 6, k = 2, number: 15\n\nn = 6, k = 4, number: 15\n\nn = 8, k = 4, number: 70\n"
     ]
    }
   ],
   "source": [
    "# Місце для Вашого коду\n",
    "from itertools import combinations\n",
    "\n",
    "a1 = list(range(1, 5))\n",
    "a2 = list(range(1, 6))\n",
    "\n",
    "comb1 = list(combinations(a1, 2))\n",
    "comb2  = list(combinations(a1, 3))\n",
    "comb3 = list(combinations(a2, 2))\n",
    "\n",
    "print(\"Combinations without replacement\")\n",
    "print_k(2, a1, comb1)\n",
    "print_k(3, a1, comb2)\n",
    "print_k(2, a2, comb3)\n",
    "\n",
    "a11 = list(range(1, 7))\n",
    "a22 = list(range(1, 9))\n",
    "\n",
    "comb_a1 = list(combinations(a11, 2))\n",
    "comb_a2  = list(combinations(a11, 4))\n",
    "comb_a3 = list(combinations(a22, 4))\n",
    "\n",
    "print(\"Combinations without replacement\")\n",
    "print_k_n(2, a11, comb_a1)\n",
    "print_k_n(4, a11, comb_a2)\n",
    "print_k_n(4, a22, comb_a3)"
   ]
  },
  {
   "cell_type": "markdown",
   "metadata": {},
   "source": [
    "### 3.3 Задача\n",
    "Нехай $A$ - множина з $10$ елементів, кожен з яких є цілим числом від $1$ до $25$.\n",
    "Тобто $$A = \\{ a_i \\}_{i = 1}^{10},\\\\ 1 \\leq a_i \\leq 25, \\quad i = 1, \\ldots, 10.$$\n",
    "Скільки елементів може бути в множині, яка складається із попарних сум елементів множини $A$?\n",
    "$$B = \\{ b_k \\, \\colon \\, b_k = a_i + a_j, \\quad a_i, a_j \\in A, \\, 1 \\leq i, j \\leq 10, \\, i \\neq j \\}_{k = 1}^{\\textbf{?}}$$"
   ]
  },
  {
   "cell_type": "code",
   "execution_count": 20,
   "metadata": {
    "collapsed": true
   },
   "outputs": [],
   "source": [
    "# Місце для Вашого коду\n",
    "\n"
   ]
  },
  {
   "cell_type": "markdown",
   "metadata": {},
   "source": [
    "## 4 Комбінації з повтореннями"
   ]
  },
  {
   "cell_type": "markdown",
   "metadata": {},
   "source": [
    "### 4.1 Використовуючи бібліотеку `itertools`"
   ]
  },
  {
   "cell_type": "code",
   "execution_count": 22,
   "metadata": {
    "collapsed": true
   },
   "outputs": [],
   "source": [
    "from itertools import combinations_with_replacement"
   ]
  },
  {
   "cell_type": "code",
   "execution_count": 21,
   "metadata": {
    "collapsed": true
   },
   "outputs": [],
   "source": [
    "A = {1, 2, 3}\n",
    "k = 2"
   ]
  },
  {
   "cell_type": "code",
   "execution_count": 23,
   "metadata": {
    "collapsed": false
   },
   "outputs": [
    {
     "name": "stdout",
     "output_type": "stream",
     "text": [
      "Комбінації довжини 2 множини {1, 2, 3}: [(1, 1), (1, 2), (1, 3), (2, 2), (2, 3), (3, 3)]\n",
      "Кількість таких комбінацій: 6\n"
     ]
    }
   ],
   "source": [
    "# комбінації довжини k множини A\n",
    "choose_k = list(combinations_with_replacement(A,k))\n",
    "print(\"Комбінації довжини {} множини {}: {}\".format(k,A,choose_k))\n",
    "print(\"Кількість таких комбінацій: {}\".format(len(choose_k)  ))"
   ]
  },
  {
   "cell_type": "markdown",
   "metadata": {},
   "source": [
    "### 4.2 Задача\n",
    "Нехай $n$ - розмір множини, $k$ - розмір комбінацій.\n",
    "Виведіть всі можливі комбінації з повтореннями та порахуйте їх кількість для таких параметрів:\n",
    "- $n = 4, k = 2$\n",
    "- $n = 4, k = 3$\n",
    "- $n = 5, k = 2$\n",
    "\n",
    "Порахуйте кількість комбінацій з повтореннями для таких параметрів:\n",
    "- $n = 6, k = 2$\n",
    "- $n = 6, k = 4$\n",
    "- $n = 8, k = 4$"
   ]
  },
  {
   "cell_type": "code",
   "execution_count": 12,
   "metadata": {
    "collapsed": true
   },
   "outputs": [
    {
     "name": "stdout",
     "output_type": "stream",
     "text": [
      "Combinations with replacement\n\nn = 4, k = 2, number: 10\n[1, 2, 3, 4]  : \n(1, 1)\n(1, 2)\n(1, 3)\n(1, 4)\n(2, 2)\n(2, 3)\n(2, 4)\n(3, 3)\n(3, 4)\n(4, 4)\n\nn = 4, k = 3, number: 20\n[1, 2, 3, 4]  : \n(1, 1, 1)\n(1, 1, 2)\n(1, 1, 3)\n(1, 1, 4)\n(1, 2, 2)\n(1, 2, 3)\n(1, 2, 4)\n(1, 3, 3)\n(1, 3, 4)\n(1, 4, 4)\n(2, 2, 2)\n(2, 2, 3)\n(2, 2, 4)\n(2, 3, 3)\n(2, 3, 4)\n(2, 4, 4)\n(3, 3, 3)\n(3, 3, 4)\n(3, 4, 4)\n(4, 4, 4)\n\nn = 5, k = 2, number: 15\n[1, 2, 3, 4, 5]  : \n(1, 1)\n(1, 2)\n(1, 3)\n(1, 4)\n(1, 5)\n(2, 2)\n(2, 3)\n(2, 4)\n(2, 5)\n(3, 3)\n(3, 4)\n(3, 5)\n(4, 4)\n(4, 5)\n(5, 5)\nCombinations without replacement\n\nn = 6, k = 2, number: 21\n\nn = 6, k = 4, number: 126\n\nn = 8, k = 4, number: 330\n"
     ]
    }
   ],
   "source": [
    "# Місце для Вашого коду\n",
    "from itertools import combinations_with_replacement as cwr\n",
    "a1 = list(range(1, 5))\n",
    "a2 = list(range(1, 6))\n",
    "print(\"Combinations with replacement\")\n",
    "combwr1 = list(cwr(a1, 2))\n",
    "combwr2 = list(cwr(a1, 3))\n",
    "combwr3 = list(cwr(a2, 2))\n",
    "\n",
    "print_k(2, a1, combwr1)\n",
    "print_k(3, a1, combwr2)\n",
    "print_k(2, a2, combwr3)\n",
    "\n",
    "a11 = list(range(1, 7))\n",
    "a22 = list(range(1, 9))\n",
    "combwr_a1 = list(cwr(a11, 2))\n",
    "combwr_a2 = list(cwr(a11, 4))\n",
    "combwr_a3 = list(cwr(a22, 4))\n",
    "\n",
    "print(\"Combinations without replacement\")\n",
    "print_k_n(2, a11, combwr_a1)\n",
    "print_k_n(4, a11, combwr_a2)\n",
    "print_k_n(4, a22, combwr_a3)\n"
   ]
  },
  {
   "cell_type": "markdown",
   "metadata": {},
   "source": [
    "### 4.3 Задача\n",
    "Скільки існує 6-цифрових наборів таких, що сума перших трьох цифр дорівнює сумі останніх трьох?\n",
    "\n",
    "**Зауваження 1.** В задачі фігурують 6-цифрові набори, а не числа. Тобто перша цифра може дорівнювати $0$.\n",
    "\n",
    "**Зауваження 2.** Задача передбачає використання функції\n",
    "[product](https://docs.python.org/3/library/itertools.html#itertools.product)."
   ]
  },
  {
   "cell_type": "code",
   "execution_count": 15,
   "metadata": {
    "collapsed": true
   },
   "outputs": [
    {
     "name": "stdout",
     "output_type": "stream",
     "text": [
      "Number of 6-number sets: 55252\n"
     ]
    }
   ],
   "source": [
    "# Місце для Вашого коду\n",
    "from itertools import product\n",
    "def check(cort):\n",
    "    return sum(cort[:3]) == sum(cort[3:])\n",
    "\n",
    "a = list(range(10))\n",
    "sets = product(a, repeat=6)\n",
    "counter = 0\n",
    "for i in sets:\n",
    "    if check(i):\n",
    "        counter += 1\n",
    "print(\"Number of 6-number sets: {}\".format(counter))\n"
   ]
  },
  {
   "cell_type": "markdown",
   "metadata": {},
   "source": [
    "### 4.4 Задача\n",
    "Скільки існує 6-цифрових чисел, в яких дві однакові цифри не стоять поряд?\n",
    "\n",
    "**Зауваження 1.** В задачі фігурують 6-цифрові числа, тобто перша цифра не може дорівнювати $0$.\n",
    "\n",
    "**Зауваження 2.** Задача передбачає використання функції\n",
    "[product](https://docs.python.org/3/library/itertools.html#itertools.product)."
   ]
  },
  {
   "cell_type": "code",
   "execution_count": 14,
   "metadata": {
    "collapsed": true
   },
   "outputs": [
    {
     "name": "stdout",
     "output_type": "stream",
     "text": [
      "Number of 6-number sets: 590490\n"
     ]
    }
   ],
   "source": [
    "# Місце для Вашого коду\n",
    "from itertools import product\n",
    "def checking(sets):\n",
    "    for i in range(len(sets) - 1):\n",
    "        if sets[i] == sets[i+1]:\n",
    "            return False\n",
    "    return True\n",
    "\n",
    "a = list(range(10))\n",
    "sets = product(a, repeat=6)\n",
    "c = 0\n",
    "for i in sets:\n",
    "    if checking(i):\n",
    "        c += 1\n",
    "print(\"Number of 6-number sets: {}\".format(c))\n"
   ]
  },
  {
   "cell_type": "code",
   "execution_count": null,
   "metadata": {},
   "outputs": [],
   "source": []
  }
 ],
 "metadata": {
  "kernelspec": {
   "display_name": "Python 3",
   "language": "python",
   "name": "python3"
  },
  "language_info": {
   "codemirror_mode": {
    "name": "ipython",
    "version": 3
   },
   "file_extension": ".py",
   "mimetype": "text/x-python",
   "name": "python",
   "nbconvert_exporter": "python",
   "pygments_lexer": "ipython3",
   "version": "3.6.1"
  }
 },
 "nbformat": 4,
 "nbformat_minor": 0
}
