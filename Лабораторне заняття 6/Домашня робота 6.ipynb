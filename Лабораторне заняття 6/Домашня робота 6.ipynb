{
 "cells": [
  {
   "cell_type": "markdown",
   "metadata": {},
   "source": [
    "# Домашня робота №6"
   ]
  },
  {
   "cell_type": "markdown",
   "metadata": {},
   "source": [
    "# Математичне сподівання та дисперсія"
   ]
  },
  {
   "cell_type": "markdown",
   "metadata": {},
   "source": [
    "## 1 Порівняння"
   ]
  },
  {
   "cell_type": "markdown",
   "metadata": {},
   "source": [
    "1. Реалізуйте функцію для підрахунку математичного сподівання випадкової величини $\\xi$, заданої в класі **scipy.stats**, усіма можливими способами:\n",
    "   - за допомогою методу **mean**;\n",
    "   - за допомогою методу **expect**;\n",
    "   - за допомогою методу **stats**.\n",
    "\n",
    "2. Реалізуйте функцію для підрахунку дисперсії випадкової величини $\\xi$, заданої в класі **scipy.stats**, усіма можливими способами:\n",
    "   - за допомогою методу **var**;\n",
    "   - за допомогою методу **expect** та формули для дисперсії \n",
    "$\\mathsf{D}(\\xi) = \\mathsf{E} \\left[ \\left( \\xi - \\mathsf{E}[\\xi] \\right)^2 \\right]$;\n",
    "   - за допомогою методу **expect** та формули для дисперсії\n",
    "$\\mathsf{D}(\\xi) = \\mathsf{E}[\\xi^2] - \\left( \\mathsf{E}[\\xi] \\right)^2$;\n",
    "   - за допомогою методу **stats**.\n",
    "\n",
    "3. Порахуйте математичне сподівання та дисперсію, використовуючи функції з пунктів **1., 2.**, і порівняйте (виведіть різницю) їх із теоретичними значеннями, використовуючи формули з лекцій, для таких випадкових величин:\n",
    "   - $\\xi \\sim Binom(10, 0.4)$ (біноміальний розподіл);\n",
    "   - $\\xi \\sim Geom(0.5)$ (геометричний розподіл);\n",
    "   - $\\xi \\sim Pois(0.6)$ (розподіл Пуассона);\n",
    "   - $\\xi \\sim NBinom(5, 0.4)$ (від'ємний біноміальний розподіл);\n",
    "   - $\\xi \\sim HGeom(20, 7, 12)$ (гіпергеометричний розподіл);\n",
    "   - $\\xi \\sim Unif(0, 1)$ (рівномірний розподіл);\n",
    "   - $\\xi \\sim Exp(0.5)$ (експоненційний (показниковий) розподіл);\n",
    "   - $\\xi \\sim N(0, 1)$ (нормальний розподіл);\n",
    "   - $\\xi \\sim \\Gamma(2)$ (гамма розподіл);\n",
    "   - $\\xi \\sim LogNorm(0, 1)$ (логнормальний розподіл);\n",
    "   - $\\xi \\sim B(2, 1.1)$ (бета розподіл)."
   ]
  },
  {
   "cell_type": "code",
   "execution_count": 15,
   "metadata": {
    "scrolled": false
   },
   "outputs": [
    {
     "name": "stdout",
     "output_type": "stream",
     "text": [
      "Mathematical expectation and dispertion of a random variable 𝜉\n",
      "Bimoial\n",
      "expectation: mean=4.000000, expect=4.000000, stats=4.000000, theoretical=4.000000\n",
      "eps: mean=0.0, expect=3.552713678800501e-15, stats=0.0\n",
      "dispersion: var=2.400000, 𝖤[(𝜉−𝖤[𝜉])^2]=2.400000, 𝖤[𝜉^2]−(𝖤[𝜉])^2=2.400000, stats=2.400000, theoretical=2.400000\n",
      "exp: var=0.0, 𝖤[(𝜉−𝖤[𝜉])^2]=1.3322676295501878e-15, 𝖤[𝜉^2]−(𝖤[𝜉])^2=4.884981308350689e-15, stats=0.0\n",
      "\n",
      "Geometric\n",
      "expectation: mean=2.000000, expect=2.000000, stats=2.000000, theoretical=2.000000\n",
      "eps: mean=0.0, expect=0.0, stats=0.0\n",
      "dispersion: var=2.000000, 𝖤[(𝜉−𝖤[𝜉])^2]=2.000000, 𝖤[𝜉^2]−(𝖤[𝜉])^2=2.000000, stats=2.000000, theoretical=2.000000\n",
      "exp: var=0.0, 𝖤[(𝜉−𝖤[𝜉])^2]=0.0, 𝖤[𝜉^2]−(𝖤[𝜉])^2=0.0, stats=0.0\n",
      "\n",
      "Poisson\n",
      "expectation: mean=0.600000, expect=0.600000, stats=0.600000, theoretical=0.600000\n",
      "eps: mean=0.0, expect=0.0, stats=0.0\n",
      "dispersion: var=0.600000, 𝖤[(𝜉−𝖤[𝜉])^2]=0.600000, 𝖤[𝜉^2]−(𝖤[𝜉])^2=0.600000, stats=0.600000, theoretical=0.600000\n",
      "exp: var=0.0, 𝖤[(𝜉−𝖤[𝜉])^2]=1.1102230246251565e-16, 𝖤[𝜉^2]−(𝖤[𝜉])^2=0.0, stats=0.0\n",
      "\n",
      "Negative binomial\n",
      "expectation: mean=7.500000, expect=7.500000, stats=7.500000, theoretical=7.500000\n",
      "eps: mean=0.0, expect=6.217248937900877e-15, stats=0.0\n",
      "dispersion: var=18.750000, 𝖤[(𝜉−𝖤[𝜉])^2]=18.750000, 𝖤[𝜉^2]−(𝖤[𝜉])^2=18.750000, stats=18.750000, theoretical=18.750000\n",
      "exp: var=0.0, 𝖤[(𝜉−𝖤[𝜉])^2]=7.105427357601002e-15, 𝖤[𝜉^2]−(𝖤[𝜉])^2=3.552713678800501e-14, stats=0.0\n",
      "\n",
      "Hypergeometric\n",
      "expectation: mean=4.200000, expect=4.200000, stats=4.200000, theoretical=4.200000\n",
      "eps: mean=8.881784197001252e-16, expect=5.329070518200751e-15, stats=8.881784197001252e-16\n",
      "dispersion: var=1.149474, 𝖤[(𝜉−𝖤[𝜉])^2]=1.149474, 𝖤[𝜉^2]−(𝖤[𝜉])^2=1.149474, stats=1.149474, theoretical=1.149474\n",
      "exp: var=4.210526372006029e-09, 𝖤[(𝜉−𝖤[𝜉])^2]=4.21052459564919e-09, 𝖤[𝜉^2]−(𝖤[𝜉])^2=4.210541026949954e-09, stats=4.210526372006029e-09\n",
      "\n",
      "Uniform\n",
      "expectation: mean=0.500000, expect=0.500000, stats=0.500000, theoretical=0.500000\n",
      "eps: mean=0.0, expect=0.0, stats=0.0\n",
      "dispersion: var=0.083333, 𝖤[(𝜉−𝖤[𝜉])^2]=0.083333, 𝖤[𝜉^2]−(𝖤[𝜉])^2=0.083333, stats=0.083333, theoretical=0.083333\n",
      "exp: var=0.0, 𝖤[(𝜉−𝖤[𝜉])^2]=0.0, 𝖤[𝜉^2]−(𝖤[𝜉])^2=4.163336342344337e-17, stats=0.0\n",
      "\n",
      "Exponential\n",
      "expectation: mean=2.000000, expect=2.000000, stats=2.000000, theoretical=2.000000\n",
      "eps: mean=0.0, expect=2.220446049250313e-16, stats=0.0\n",
      "dispersion: var=4.000000, 𝖤[(𝜉−𝖤[𝜉])^2]=4.000000, 𝖤[𝜉^2]−(𝖤[𝜉])^2=4.000000, stats=4.000000, theoretical=4.000000\n",
      "exp: var=0.0, 𝖤[(𝜉−𝖤[𝜉])^2]=5.062616992290714e-14, 𝖤[𝜉^2]−(𝖤[𝜉])^2=8.881784197001252e-16, stats=0.0\n",
      "\n",
      "Normal\n",
      "expectation: mean=0.000000, expect=0.000000, stats=0.000000, theoretical=0.000000\n",
      "eps: mean=0.0, expect=0.0, stats=0.0\n",
      "dispersion: var=1.000000, 𝖤[(𝜉−𝖤[𝜉])^2]=1.000000, 𝖤[𝜉^2]−(𝖤[𝜉])^2=1.000000, stats=1.000000, theoretical=1.000000\n",
      "exp: var=0.0, 𝖤[(𝜉−𝖤[𝜉])^2]=1.1102230246251565e-15, 𝖤[𝜉^2]−(𝖤[𝜉])^2=1.1102230246251565e-15, stats=0.0\n",
      "\n",
      "Gamma\n",
      "expectation: mean=2.000000, expect=2.000000, stats=2.000000, theoretical=2.000000\n",
      "eps: mean=0.0, expect=0.0, stats=0.0\n",
      "dispersion: var=2.000000, 𝖤[(𝜉−𝖤[𝜉])^2]=2.000000, 𝖤[𝜉^2]−(𝖤[𝜉])^2=2.000000, stats=2.000000, theoretical=2.000000\n",
      "exp: var=0.0, 𝖤[(𝜉−𝖤[𝜉])^2]=4.440892098500626e-16, 𝖤[𝜉^2]−(𝖤[𝜉])^2=0.0, stats=0.0\n",
      "\n",
      "Lognormal\n",
      "expectation: mean=1.648721, expect=1.648721, stats=1.648721, theoretical=1.648721\n",
      "eps: mean=0.0, expect=1.5054624213917123e-13, stats=0.0\n",
      "dispersion: var=4.670774, 𝖤[(𝜉−𝖤[𝜉])^2]=4.670774, 𝖤[𝜉^2]−(𝖤[𝜉])^2=4.670774, stats=4.670774, theoretical=2.718282\n",
      "exp: var=1.952492442012559, 𝖤[(𝜉−𝖤[𝜉])^2]=1.9524924419931415, 𝖤[𝜉^2]−(𝖤[𝜉])^2=1.952492441970262, stats=1.952492442012559\n",
      "\n",
      "Beta\n",
      "expectation: mean=0.645161, expect=0.645161, stats=0.645161, theoretical=0.645161\n",
      "eps: mean=0.0, expect=3.3306690738754696e-16, stats=0.0\n",
      "dispersion: var=0.055836, 𝖤[(𝜉−𝖤[𝜉])^2]=0.645161, 𝖤[𝜉^2]−(𝖤[𝜉])^2=0.055836, stats=0.055836, theoretical=0.055836\n",
      "exp: var=9.296709235773193e-12, 𝖤[(𝜉−𝖤[𝜉])^2]=0.5893251440225682, 𝖤[𝜉^2]−(𝖤[𝜉])^2=9.29656351900121e-12, stats=9.296709235773193e-12\n",
      "\n"
     ]
    }
   ],
   "source": [
    "import numpy as np\n",
    "from scipy.stats import binom, geom, poisson, nbinom, hypergeom, uniform, expon, norm, gamma, lognorm, beta\n",
    "\n",
    "\n",
    "def disper(xi):\n",
    "    d1 = xi.var()\n",
    "    exp1 = xi.expect(lambda x: (x - xi.expect())**2)\n",
    "    exp2 = xi.expect(lambda x: x**2) - xi.expect()**2\n",
    "    d2 = xi.stats()[1] \n",
    "    return d1, exp1, exp2, d2\n",
    "\n",
    "def expecti(xi):\n",
    "    return xi.mean(), xi.expect(), xi.stats()[0]\n",
    "\n",
    "\n",
    "name = [\"Bimoial\", \"Geometric\", \"Poisson\", \"Negative binomial\", \"Hypergeometric\", \n",
    "        \"Uniform\", \"Exponential\", \"Normal\", \"Gamma\", \"Lognormal\", \"Beta\"]\n",
    "\n",
    "\n",
    "expec = [10*0.4, 1/0.5, 0.6, 5*0.6/0.4, 7*12/20, \n",
    "         (1+0)/2, 1/0.5, 0, 2/1, np.e**(1/2), 2/(2+1.1)]\n",
    "\n",
    "\n",
    "dis = [2.4, 2, 0.6, 18.75, 1.14947368, 1/12, 4, 1, 2, np.floor(np.e - 1) * np.e, 0.0558361463]\n",
    "\n",
    "\n",
    "xi = [binom(10, 0.4), geom(0.5), poisson(0.6), nbinom(5, 0.4), hypergeom(20, 7, 12),uniform(0, 1), expon(loc=0, scale=(1 / 0.5)), norm(0, 1), gamma(2), lognorm(s=1), beta(2, 1.1)]\n",
    "print(\"Mathematical expectation and dispertion of a random variable 𝜉\")\n",
    "for i in range(len(xi)):\n",
    "    ex = [expecti(xi[i])[0], expecti(xi[i])[1], expecti(xi[i])[2]]\n",
    "    di = [disper(xi[i])[0], disper(xi[i])[1], disper(xi[i])[2], disper(xi[i])[3]]\n",
    "    eps_e = [abs(j - expec[i]) for j in ex]\n",
    "    eps_d = [abs(j - dis[i]) for j in di]\n",
    "    \n",
    "    print(name[i])\n",
    "    print(\"{}: mean={:4f}, expect={:4f}, stats={:4f}, theoretical={:4f}\".format(\"expectation\", ex[0], ex[1], ex[2], expec[i]))\n",
    "    print(\"eps: mean={}, expect={}, stats={}\".format(eps_e[0], eps_e[1], eps_e[2]))\n",
    "    print(\"{}: var={:4f}, 𝖤[(𝜉−𝖤[𝜉])^2]={:4f}, 𝖤[𝜉^2]−(𝖤[𝜉])^2={:4f}, stats={:4f}, theoretical={:4f}\".format(\"dispersion\", di[0], di[1], di[2], di[3], dis[i]))\n",
    "    print(\"exp: var={}, 𝖤[(𝜉−𝖤[𝜉])^2]={}, 𝖤[𝜉^2]−(𝖤[𝜉])^2={}, stats={}\\n\".format(eps_d[0], eps_d[1], eps_d[2], eps_d[3]))\n"
   ]
  },
  {
   "cell_type": "markdown",
   "metadata": {},
   "source": [
    "## 2 Унікальні цифри"
   ]
  },
  {
   "cell_type": "markdown",
   "metadata": {},
   "source": [
    "Нехай випадковим чином вибирають послідовно $n$ цифр (цифри можуть повторюватися, вибірка з поверненням).\n",
    "Нехай тоді випадкова величина $\\xi$ - це кількість унікальних цифр в отриманому наборі.\n",
    "\n",
    "Напишіть функцію для обрахунку математичного сподівання та дисперсії випадкової величини $\\xi$ в залежності від кількості $n$ цифр у наборі методом повного перебору.\n",
    "Виведіть результат для $n = 1, 2, 3, 4, 5, 6, 7.$"
   ]
  },
  {
   "cell_type": "code",
   "execution_count": 3,
   "metadata": {},
   "outputs": [
    {
     "name": "stdout",
     "output_type": "stream",
     "text": [
      "n = 1\n",
      "E = 1.000000\n",
      "D = 0.000000\n",
      "\n",
      "n = 2\n",
      "E = 1.900000\n",
      "D = 0.090000\n",
      "\n",
      "n = 3\n",
      "E = 2.710000\n",
      "D = 0.225900\n",
      "\n",
      "n = 4\n",
      "E = 3.439000\n",
      "D = 0.378279\n",
      "\n",
      "n = 5\n",
      "E = 4.095100\n",
      "D = 0.528256\n",
      "\n",
      "n = 6\n",
      "E = 4.685590\n",
      "D = 0.664416\n",
      "\n",
      "n = 7\n",
      "E = 5.217031\n",
      "D = 0.780545\n",
      "\n"
     ]
    }
   ],
   "source": [
    "import itertools\n",
    "from collections import defaultdict\n",
    "\n",
    "\n",
    "def numbers(n):\n",
    "    omega = range(0, 10)\n",
    "    elements = list(itertools.product(omega, repeat=n))\n",
    "    d = defaultdict(int)\n",
    "    for elem in elements:\n",
    "        d[len(set(elem))] += 1\n",
    "    Exp = 0\n",
    "    Disper = 0\n",
    "    \n",
    "    for key, value in d.items():    \n",
    "        Exp += key * (value / len(elements))\n",
    "        \n",
    "    for key, value in d.items():    \n",
    "        Disper += key ** 2 * (value / len(elements)) \n",
    "    Disper -= Exp ** 2\n",
    "    \n",
    "    return Exp, Disper\n",
    "\n",
    "\n",
    "for n in [1, 2, 3, 4, 5, 6, 7]:\n",
    "    print(\"n = {}\\nE = {:5f}\\nD = {:5f}\\n\".format(n, numbers(n)[0], numbers(n)[1]))\n"
   ]
  },
  {
   "cell_type": "markdown",
   "metadata": {},
   "source": [
    "## 3 Максимальне значення"
   ]
  },
  {
   "cell_type": "markdown",
   "metadata": {},
   "source": [
    "Нехай випадкова величина $\\xi$ - це максимальне значення після $n$ кидків грального кубика.\n",
    "\n",
    "Напишіть функцію для обрахунку математичного сподівання та дисперсії випадкової величини $\\xi$ в залежності від кількості $n$ кидків кубика методом повного перебору.\n",
    "Виведіть результат для $n = 1, 2, 3, 4, 5, 6, 7, 8, 9.$\n",
    "\n",
    "Напишіть теоретичну формулу для математичного сподівання та дисперсії випадкової величини $\\xi$.\n",
    "Порівняйте теоретичні значення з обчисленими повним перебором."
   ]
  },
  {
   "cell_type": "code",
   "execution_count": 7,
   "metadata": {},
   "outputs": [
    {
     "name": "stdout",
     "output_type": "stream",
     "text": [
      "n = 1, \n",
      "force: E=3.500000, D=2.916667, \n",
      "theoretical: E=3.5, D=2.916666666666668\n",
      "\n",
      "n = 2, \n",
      "force: E=4.472222, D=1.971451, \n",
      "theoretical: E=4.472222222222222, D=1.9714506172839492\n",
      "\n",
      "n = 3, \n",
      "force: E=4.958333, D=1.308449, \n",
      "theoretical: E=4.958333333333333, D=1.3084490740740762\n",
      "\n",
      "n = 4, \n",
      "force: E=5.244599, D=0.910079, \n",
      "theoretical: E=5.244598765432098, D=0.9100788513565092\n",
      "\n",
      "n = 5, \n",
      "force: E=5.430941, D=0.659326, \n",
      "theoretical: E=5.4309413580246915, D=0.6593255541742877\n",
      "\n",
      "n = 6, \n",
      "force: E=5.560292, D=0.492850, \n",
      "theoretical: E=5.560292352537722, D=0.4928497430622407\n",
      "\n",
      "n = 7, \n",
      "force: E=5.654117, D=0.377325, \n",
      "theoretical: E=5.654117369684499, D=0.3773252254790407\n",
      "\n",
      "n = 8, \n",
      "force: E=5.724354, D=0.294246, \n",
      "theoretical: E=5.724354257163542, D=0.2942463096489405\n",
      "\n",
      "n = 9, \n",
      "force: E=5.778177, D=0.232760, \n",
      "theoretical: E=5.778176976165981, D=0.23276028509143742\n",
      "\n"
     ]
    }
   ],
   "source": [
    "def force(n):\n",
    "    omega = range(1, 7)\n",
    "    elements = list(itertools.product(omega, repeat=n))\n",
    "    d = defaultdict(int)\n",
    "    for elem in elements:\n",
    "        d[max(list(elem))] += 1\n",
    "    \n",
    "    expe = 0\n",
    "    disper = 0\n",
    "    \n",
    "    for key, value in d.items():    \n",
    "        expe += key * (value / len(elements))\n",
    "        \n",
    "    for key, value in d.items():    \n",
    "        disper += key ** 2 * (value / len(elements)) \n",
    "    disper -= expe ** 2\n",
    "    \n",
    "    return expe, disper\n",
    "\n",
    "def theoret(n):\n",
    "    E = sum([i * (i ** n - (i - 1) ** n) / 6 ** n for i in range(1, 7)])\n",
    "    D = sum([i ** 2 * (i ** n - (i - 1) ** n) / 6 ** n for i in range(1, 7)]) - E ** 2\n",
    "    return E, D\n",
    "\n",
    "\n",
    "ni = list(range(1, 10))\n",
    "for n in ni:\n",
    "    print(\"n = {}, \\nforce: E={:4f}, D={:4f}, \\ntheoretical: E={}, D={}\\n\".format(n, force(n)[0], force(n)[1], theoret(n)[0], theoret(n)[1]))"
   ]
  },
  {
   "cell_type": "markdown",
   "metadata": {},
   "source": [
    "## 4 Сума значень"
   ]
  },
  {
   "cell_type": "markdown",
   "metadata": {},
   "source": [
    "Нехай випадкова величина $\\xi$ - це сума значень після $n$ кидків грального кубика (сума цифр, що випали).\n",
    "\n",
    "Напишіть функцію для обрахунку математичного сподівання та дисперсії випадкової величини $\\xi$ в залежності від кількості $n$ кидків кубика методом повного перебору.\n",
    "Виведіть результат для $n = 1, 2, 3, 5, 7, 8.$\n",
    "\n",
    "Напишіть теоретичну формулу для математичного сподівання та дисперсії випадкової величини $\\xi$.\n",
    "Порівняйте теоретичні значення з обчисленими повним перебором."
   ]
  },
  {
   "cell_type": "code",
   "execution_count": 14,
   "metadata": {},
   "outputs": [
    {
     "name": "stdout",
     "output_type": "stream",
     "text": [
      "n = 1, \n",
      "force: E=3.5, D=2.9166666666666665, \n",
      "theoretical: E=3.5, D=2.9166666666666665\n",
      "\n",
      "n = 2, \n",
      "force: E=6.999999999999999, D=5.833333333333334, \n",
      "theoretical: E=7.0, D=5.833333333333333\n",
      "\n",
      "n = 3, \n",
      "force: E=10.500000000000002, D=8.75, \n",
      "theoretical: E=10.5, D=8.75\n",
      "\n",
      "n = 5, \n",
      "force: E=17.5, D=14.583333333333336, \n",
      "theoretical: E=17.5, D=14.583333333333332\n",
      "\n",
      "n = 7, \n",
      "force: E=24.5, D=20.41666666666666, \n",
      "theoretical: E=24.5, D=20.416666666666664\n",
      "\n",
      "n = 8, \n",
      "force: E=28.000000000000007, D=23.33333333333332, \n",
      "theoretical: E=28.0, D=23.333333333333332\n",
      "\n"
     ]
    }
   ],
   "source": [
    "from itertools import product\n",
    "def expectation(pk, xk):\n",
    "    return sum(a*b for a,b in zip(pk, xk))\n",
    "\n",
    "def dispersion(pk, xk):\n",
    "    return (expectation(pk, (xk-expectation(pk, xk))**2))\n",
    "\n",
    "def emp(n):\n",
    "    p = np.zeros(6*n+1)\n",
    "    xk = list(range(0, 6*n+1))\n",
    "    elements = product(range(1, 7), repeat=n)\n",
    "    for elem in elements:\n",
    "        p[sum(elem)] += 1\n",
    "    p = p/6**n\n",
    "    E = expectation(p, xk)\n",
    "    D = dispersion(p, xk)\n",
    "    return E, D\n",
    "\n",
    "def theor(n):\n",
    "    xk = list(range(7))[1:] \n",
    "    p = np.zeros(6) + 1/6\n",
    "    E = expectation(p, xk)\n",
    "    D = dispersion(p, xk)\n",
    "    return n*E, n*D \n",
    "\n",
    "n_i=[1, 2, 3, 5, 7, 8]\n",
    "\n",
    "for n in n_i:\n",
    "    print(\"n = {}, \\nforce: E={}, D={}, \\ntheoretical: E={}, D={}\\n\".format(n, emp(n)[0], emp(n)[1], theor(n)[0], theor(n)[1]))"
   ]
  },
  {
   "cell_type": "markdown",
   "metadata": {},
   "source": [
    "## 5 Парадокс днів народження"
   ]
  },
  {
   "cell_type": "markdown",
   "metadata": {},
   "source": [
    "Нехай маємо $n$ людей.\n",
    "Їх дні народження припадають на один з 12 місяців.\n",
    "Нехай тоді випадкова величина $\\xi$ - це кількість співпадінь місяців народжень серед цих $n$ людей.\n",
    "\n",
    "Напишіть функцію для обрахунку математичного сподівання та дисперсії випадкової величини $\\xi$ в залежності від кількості $n$ людей методом повного перебору.\n",
    "Виведіть результат для $n = 1, 2, 3, 4, 5, 6.$\n",
    "\n",
    "Для якого $n$ виконується $\\mathsf{E}\\left[ \\xi \\right] \\geq 1$?\n",
    "\n",
    "**Зауваження.** Кількість співпадінь означає кількість однакових пар. Наприклад,\n",
    "- у наборі $\\{ 1, 1, 2, 3 \\}$ є одна пара;\n",
    "- у наборі $\\{ 1, 1, 1, 3 \\}$ є три пари;\n",
    "- у наборі $\\{ 1, 1, 1, 1 \\}$ є шість пар."
   ]
  },
  {
   "cell_type": "code",
   "execution_count": 5,
   "metadata": {},
   "outputs": [
    {
     "name": "stdout",
     "output_type": "stream",
     "text": [
      "n = 1\n",
      "E = 0.0\n",
      "D = 0.0\n",
      "\n",
      "n = 2\n",
      "E = 0.08333333333333333\n",
      "D = 0.07638888888888888\n",
      "\n",
      "n = 3\n",
      "E = 0.25\n",
      "D = 0.22916666666666663\n",
      "\n",
      "n = 4\n",
      "E = 0.5\n",
      "D = 0.45833333333333326\n",
      "\n",
      "n = 5\n",
      "E = 0.8333333333333334\n",
      "D = 0.7638888888888887\n",
      "\n",
      "n = 6\n",
      "E = 1.25\n",
      "D = 1.145833333333334\n",
      "\n",
      "\n"
     ]
    }
   ],
   "source": [
    "import numpy as np\n",
    "import itertools\n",
    "from collections import defaultdict\n",
    "\n",
    "\n",
    "def combinations(n, k):\n",
    "    if n < k:\n",
    "        return 0\n",
    "    return int(np.math.factorial(n) / np.math.factorial(n - k) / np.math.factorial(k))\n",
    "\n",
    "\n",
    "def task(n):\n",
    "    omega = range(1, 13)\n",
    "    elements = list(itertools.product(omega, repeat=n))\n",
    "    d = defaultdict(int)\n",
    "    for elem in elements:\n",
    "        pairs = 0\n",
    "        for el in set(elem):\n",
    "            pairs += combinations(elem.count(el), 2)\n",
    "        d[pairs] += 1\n",
    "    \n",
    "    Expe = 0\n",
    "    Disper = 0\n",
    "    for key, value in d.items():    \n",
    "        Expe += key * (value / len(elements))\n",
    "    for key, value in d.items():    \n",
    "        Disper += key ** 2 * (value / len(elements)) \n",
    "    Disper -= Expe ** 2\n",
    "    return Expe, Disper\n",
    "\n",
    "N = list(range(1,7)) \n",
    "for n in N:\n",
    "    print(\"n = {}\\nE = {}\\nD = {}\\n\".format(n, task(n)[0], task(n)[1]))"
   ]
  },
  {
   "cell_type": "code",
   "execution_count": null,
   "metadata": {},
   "outputs": [],
   "source": []
  }
 ],
 "metadata": {
  "kernelspec": {
   "display_name": "Python 3",
   "language": "python",
   "name": "python3"
  },
  "language_info": {
   "codemirror_mode": {
    "name": "ipython",
    "version": 3
   },
   "file_extension": ".py",
   "mimetype": "text/x-python",
   "name": "python",
   "nbconvert_exporter": "python",
   "pygments_lexer": "ipython3",
   "version": "3.7.1"
  }
 },
 "nbformat": 4,
 "nbformat_minor": 1
}
