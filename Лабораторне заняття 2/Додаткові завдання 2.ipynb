{
 "cells": [
  {
   "cell_type": "markdown",
   "metadata": {},
   "source": [
    "# Додаткові завдання №2"
   ]
  },
  {
   "cell_type": "markdown",
   "metadata": {},
   "source": [
    "## 1 Візуалізація емпіричної імовірності\n",
    "Побудуйте графік залежності емпіричної імовірності випадіння герба (HEAD) від кількості підкидань чесної монети (симуляцій).\n",
    "\n",
    "**Зауваження.** Завдання передбачає використання бібліотеки [Matplotlib](https://matplotlib.org/)."
   ]
  },
  {
   "cell_type": "code",
   "execution_count": 11,
   "metadata": {},
   "outputs": [
    {
     "data": {
      "image/png": "[encoded data removed]",
      "text/plain": [
       "<Figure size 432x288 with 1 Axes>"
      ]
     },
     "metadata": {
      "needs_background": "light"
     },
     "output_type": "display_data"
    }
   ],
   "source": [
    "from numpy.random import choice\n",
    "import matplotlib.pyplot as plt\n",
    "%matplotlib inline\n",
    "\n",
    "def count(a):\n",
    "    return list(choice(['H', 'T'], a)).count('H') / a\n",
    "\n",
    "\n",
    "\n",
    "a = range(1, 500)\n",
    "b = [count(i) for i in a]\n",
    "\n",
    "plt.plot(a, b)\n",
    "plt.title(' H')\n",
    "plt.xlabel('Tests')\n",
    "plt.ylabel('Probability')\n",
    "plt.show()"
   ]
  },
  {
   "cell_type": "markdown",
   "metadata": {},
   "source": [
    "## 2 Найбільше число\n",
    "Реалізуйте функцію підрахунку точної (теоретичної) імовірності того, що максимальне число після $n$ кидків різних гральних кубиків із кількістю сторін $f = \\{ f_i \\}_{i = 1}^{n}$ дорівнює $x\\_max$, для таких параметрів:\n",
    "- $f = \\{ 2, 5, 8 \\}, x\\_max = 8$\n",
    "- $f = \\{ 3, 4 \\}, x\\_max = 2$\n",
    "- $f = \\{ 2, 5, 7, 3 \\}, x\\_max = 3$\n",
    "\n",
    "Тобто, якщо $X_i, i = 1, \\ldots, n$, - число на $i$-му кидку кубика, а $X = \\max\\limits_{1 \\leq i \\leq n} X_i$, то потрібно знайти ймовірність $\\textbf{P} \\left( X = x\\_max \\right)$.\n",
    "\n",
    "Підрахуйте також емпіричні ймовірності відповідних подій у випадку $10000$ симуляцій.\n",
    "\n",
    "**Зауваження.** Якщо введені параметри не мають сенсу, то повертати $0$.\n",
    "Наприклад, якщо при $f = \\{ 4, 8, 3 \\}$ вводиться $x\\_max < 1$ або $x\\_max > 8$."
   ]
  },
  {
   "cell_type": "code",
   "execution_count": 9,
   "metadata": {},
   "outputs": [
    {
     "name": "stdout",
     "output_type": "stream",
     "text": [
      "f = [2, 5, 8], x_max = 8: \n",
      "empiric = 0.1234, theor = 0.125\n",
      "\n",
      "\n",
      "f = [3, 4], x_max = 2: \n",
      "empiric = 0.2524, theor = 0.25\n",
      "\n",
      "\n",
      "f = [2, 5, 7, 3], x_max = 3: \n",
      "empiric = 0.1807, theor = 0.18095238095238095\n",
      "\n",
      "\n"
     ]
    }
   ],
   "source": [
    "from itertools import product\n",
    "\n",
    "\n",
    "def check(elem, x_max):\n",
    "    return max(list(elem)) == x_max\n",
    "\n",
    "\n",
    "def empiric(f, x_max, tests=10000):\n",
    "    if (x_max < 1 or x_max > max(list(f))):\n",
    "        return 0\n",
    "    count = 0\n",
    "    for _ in range(tests):\n",
    "        k = [choice(range(1, j+1)) for j in f]\n",
    "        if check(k, x_max):\n",
    "            count += 1\n",
    "    return count / tests \n",
    "\n",
    "\n",
    "def theor(f, x_max):\n",
    "    if (x_max < 1 or x_max > max(list(f))):\n",
    "        return 0\n",
    "    n = 0\n",
    "    count = 0\n",
    "    for elem in product(*[range(1, i+1) for i in f]):\n",
    "        count += 1\n",
    "        if check(elem, x_max):\n",
    "            n += 1\n",
    "    return n / count\n",
    "\n",
    "f = [[2, 5, 8], [3, 4], [2, 5, 7, 3]]\n",
    "x_max = [8, 2, 3]\n",
    "\n",
    "for i in range(3):\n",
    "    print('f = {}, x_max = {}: \\nempirical = {}, theoretical = {}\\n\\n'.format(f[i], x_max[i], empiric(f[i], x_max[i]), theor(f[i], x_max[i])))"
   ]
  },
  {
   "cell_type": "markdown",
   "metadata": {},
   "source": [
    "## 3 Сума чисел\n",
    "Реалізуйте функцію підрахунку точної (теоретичної) імовірності того, що сума чисел після $n$ кидків різних гральних кубиків із кількістю сторін $f = \\{ f_i \\}_{i = 1}^{n}$ дорівнює $s$, для таких параметрів:\n",
    "- $f = \\{ 3, 4, 5 \\}, s = 13$\n",
    "- $f = \\{ 2, 2 \\}, s = 3$\n",
    "- $f = \\{ 3, 4, 5 \\}, s = 7$\n",
    "\n",
    "Тобто, якщо $X_i, i = 1, \\ldots, n$, - число на $i$-му кидку кубика, а $X = \\sum\\limits_{i = 1}^{n} X_i$, то потрібно знайти ймовірність $\\textbf{P} \\left( X = s \\right)$.\n",
    "\n",
    "Підрахуйте також емпіричні ймовірності відповідних подій у випадку $10000$ симуляцій.\n",
    "\n",
    "**Зауваження.** Якщо введені параметри не мають сенсу, то повертати $0$.\n",
    "Наприклад, якщо при $f = \\{ 4, 6, 3 \\}$ вводиться $s < 3$ або $s > 13$."
   ]
  },
  {
   "cell_type": "code",
   "execution_count": 10,
   "metadata": {},
   "outputs": [
    {
     "name": "stdout",
     "output_type": "stream",
     "text": [
      "f = [3, 4, 5], s = 13: \n",
      "empirical = 0, theoretical = 0\n",
      "\n",
      "\n",
      "f = [2, 2], s = 3: \n",
      "empirical = 0.5099, theoretical = 0.5\n",
      "\n",
      "\n",
      "f = [3, 4, 5], s = 7: \n",
      "empirical = 0.1781, theoretical = 0.18333333333333332\n",
      "\n",
      "\n"
     ]
    }
   ],
   "source": [
    "def check(elem, s):\n",
    "    return sum(list(elem)) == s\n",
    "\n",
    "\n",
    "def empir(f, s, tests=10000):\n",
    "    if (s < len(f) or sum(f) < s):\n",
    "        return 0\n",
    "    count = 0\n",
    "    for n in range(tests):\n",
    "        k = [choice(range(1, i+1)) for i in f] \n",
    "        if check(k, s):\n",
    "            count += 1\n",
    "    return count / tests\n",
    "\n",
    "\n",
    "def theoret(f, s):\n",
    "    if (s < len(f) or sum(f) < s):\n",
    "        return 0\n",
    "    c = 0\n",
    "    count = 0\n",
    "    for elem in product(*[range(1, i+1) for i in f]):\n",
    "        count += 1\n",
    "        if check(elem, s):\n",
    "            c += 1\n",
    "    return c / count\n",
    "\n",
    "f = [[3, 4, 5], [2, 2], [3, 4, 5]]\n",
    "s = [13, 3, 7]\n",
    "\n",
    "for i in range(3):\n",
    "    print('f = {}, s = {}: \\nempirical = {}, theoretical = {}\\n\\n'.format(f[i], s[i], empir(f[i], s[i]), theoret(f[i], s[i])))"
   ]
  }
 ],
 "metadata": {
  "kernelspec": {
   "display_name": "Python 3",
   "language": "python",
   "name": "python3"
  },
  "language_info": {
   "codemirror_mode": {
    "name": "ipython",
    "version": 3
   },
   "file_extension": ".py",
   "mimetype": "text/x-python",
   "name": "python",
   "nbconvert_exporter": "python",
   "pygments_lexer": "ipython3",
   "version": "3.7.1"
  }
 },
 "nbformat": 4,
 "nbformat_minor": 1
}
